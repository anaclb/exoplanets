{
 "cells": [
  {
   "cell_type": "code",
   "execution_count": 1,
   "metadata": {},
   "outputs": [],
   "source": [
    "import pandas as pd\n",
    "import os\n",
    "import numpy as np\n",
    "import matplotlib.pyplot as plt"
   ]
  },
  {
   "cell_type": "markdown",
   "metadata": {},
   "source": [
    "# Parameters wanted:\n",
    "   *  Mass, radius, orbital period, host star metallicity, eccentricity, equilibrium temperature."
   ]
  },
  {
   "cell_type": "code",
   "execution_count": 2,
   "metadata": {},
   "outputs": [],
   "source": [
    "file_US=\"/home/bolacha/University/Project/code/data2-example/selection_US.rdb\"\n",
    "file_EU=\"/home/bolacha/University/Project/code/data2-example/selection_EU.rdb\""
   ]
  },
  {
   "cell_type": "code",
   "execution_count": 3,
   "metadata": {},
   "outputs": [],
   "source": [
    "file1=pd.read_csv(file_US, sep = '\\t',header=[2])\n",
    "file2=pd.read_csv(file_EU, sep = '\\t',header=[2])\n",
    "d_US, d_EU = pd.DataFrame(file1), pd.DataFrame(file2)\n",
    "d_US,d_EU = d_US.iloc[1:,:45], d_EU.iloc[1:,:45]\n",
    "\n",
    "d_US.rename(columns={\"null\": \"Name\", \"null.1\": \"DB source\", \"null.2\": \"Discovery Method\", \"JUPITERMASS\" : \"Mp\", \"JUPITERMASS.1\": \"Mp_sini\", \"JUPITERRADIUS\": \"Rp\", \"DAY\": \"P\", \"AU\":\"a\",\"null.3\":\"e\",\"KELVIN\":\"Tstar\", \"null.4\":\"FeH\",\"DEG\":\"i\" },inplace=True)\n",
    "d_EU.rename(columns={\"null\": \"Name\", \"null.1\": \"DB source\", \"null.2\": \"Discovery Method\", \"JUPITERMASS\" : \"Mp\", \"JUPITERMASS.1\": \"Mp_sini\", \"JUPITERRADIUS\": \"Rp\", \"DAY\": \"P\", \"AU\":\"a\",\"null.3\":\"e\",\"KELVIN\":\"Tstar\", \"null.4\":\"FeH\",\"DEG\":\"i\"},inplace=True)"
   ]
  },
  {
   "cell_type": "code",
   "execution_count": 4,
   "metadata": {},
   "outputs": [
    {
     "data": {
      "text/html": [
       "<div>\n",
       "<style scoped>\n",
       "    .dataframe tbody tr th:only-of-type {\n",
       "        vertical-align: middle;\n",
       "    }\n",
       "\n",
       "    .dataframe tbody tr th {\n",
       "        vertical-align: top;\n",
       "    }\n",
       "\n",
       "    .dataframe thead th {\n",
       "        text-align: right;\n",
       "    }\n",
       "</style>\n",
       "<table border=\"1\" class=\"dataframe\">\n",
       "  <thead>\n",
       "    <tr style=\"text-align: right;\">\n",
       "      <th></th>\n",
       "      <th>Name</th>\n",
       "      <th>DB source</th>\n",
       "      <th>Discovery Method</th>\n",
       "      <th>Mp</th>\n",
       "      <th>Mp_sini</th>\n",
       "      <th>Rp</th>\n",
       "      <th>P</th>\n",
       "      <th>a</th>\n",
       "      <th>e</th>\n",
       "      <th>Tstar</th>\n",
       "      <th>FeH</th>\n",
       "      <th>i</th>\n",
       "    </tr>\n",
       "  </thead>\n",
       "  <tbody>\n",
       "    <tr>\n",
       "      <th>1</th>\n",
       "      <td>CoRoT-12 b</td>\n",
       "      <td>Nasa Exoplanet Archive</td>\n",
       "      <td>Transit</td>\n",
       "      <td>0.917</td>\n",
       "      <td>NaN</td>\n",
       "      <td>1.44</td>\n",
       "      <td>2.828042</td>\n",
       "      <td>0.04016</td>\n",
       "      <td>0.07</td>\n",
       "      <td>5675.0</td>\n",
       "      <td>0.16</td>\n",
       "      <td>85.48</td>\n",
       "    </tr>\n",
       "    <tr>\n",
       "      <th>2</th>\n",
       "      <td>CoRoT-18 b</td>\n",
       "      <td>Nasa Exoplanet Archive</td>\n",
       "      <td>Transit</td>\n",
       "      <td>3.47</td>\n",
       "      <td>NaN</td>\n",
       "      <td>1.31</td>\n",
       "      <td>1.9000693</td>\n",
       "      <td>0.0295</td>\n",
       "      <td>0.08</td>\n",
       "      <td>5440.0</td>\n",
       "      <td>-0.10</td>\n",
       "      <td>86.50</td>\n",
       "    </tr>\n",
       "    <tr>\n",
       "      <th>3</th>\n",
       "      <td>HD 4208 b</td>\n",
       "      <td>Nasa Exoplanet Archive</td>\n",
       "      <td>Radial Velocity</td>\n",
       "      <td>0.81</td>\n",
       "      <td>0.81</td>\n",
       "      <td>NaN</td>\n",
       "      <td>832.97</td>\n",
       "      <td>1.662</td>\n",
       "      <td>0.042</td>\n",
       "      <td>5717.0</td>\n",
       "      <td>-0.28</td>\n",
       "      <td>NaN</td>\n",
       "    </tr>\n",
       "    <tr>\n",
       "      <th>4</th>\n",
       "      <td>HD 4313 b</td>\n",
       "      <td>Nasa Exoplanet Archive</td>\n",
       "      <td>Radial Velocity</td>\n",
       "      <td>1.927</td>\n",
       "      <td>1.927</td>\n",
       "      <td>NaN</td>\n",
       "      <td>356.21</td>\n",
       "      <td>1.157</td>\n",
       "      <td>0.147</td>\n",
       "      <td>4943.0</td>\n",
       "      <td>NaN</td>\n",
       "      <td>NaN</td>\n",
       "    </tr>\n",
       "    <tr>\n",
       "      <th>5</th>\n",
       "      <td>HD 50499 b</td>\n",
       "      <td>Nasa Exoplanet Archive</td>\n",
       "      <td>Radial Velocity</td>\n",
       "      <td>1.636</td>\n",
       "      <td>1.636</td>\n",
       "      <td>NaN</td>\n",
       "      <td>2447.1</td>\n",
       "      <td>3.833</td>\n",
       "      <td>0.266</td>\n",
       "      <td>6102.0</td>\n",
       "      <td>0.26</td>\n",
       "      <td>NaN</td>\n",
       "    </tr>\n",
       "    <tr>\n",
       "      <th>...</th>\n",
       "      <td>...</td>\n",
       "      <td>...</td>\n",
       "      <td>...</td>\n",
       "      <td>...</td>\n",
       "      <td>...</td>\n",
       "      <td>...</td>\n",
       "      <td>...</td>\n",
       "      <td>...</td>\n",
       "      <td>...</td>\n",
       "      <td>...</td>\n",
       "      <td>...</td>\n",
       "      <td>...</td>\n",
       "    </tr>\n",
       "    <tr>\n",
       "      <th>4005</th>\n",
       "      <td>Kepler-248 c</td>\n",
       "      <td>Nasa Exoplanet Archive</td>\n",
       "      <td>Transit</td>\n",
       "      <td>NaN</td>\n",
       "      <td>NaN</td>\n",
       "      <td>0.363</td>\n",
       "      <td>16.239494</td>\n",
       "      <td>0.123</td>\n",
       "      <td>NaN</td>\n",
       "      <td>5190.0</td>\n",
       "      <td>NaN</td>\n",
       "      <td>NaN</td>\n",
       "    </tr>\n",
       "    <tr>\n",
       "      <th>4006</th>\n",
       "      <td>HD 34445 e</td>\n",
       "      <td>Nasa Exoplanet Archive</td>\n",
       "      <td>Radial Velocity</td>\n",
       "      <td>0.0529</td>\n",
       "      <td>0.0529</td>\n",
       "      <td>NaN</td>\n",
       "      <td>49.175</td>\n",
       "      <td>0.2687</td>\n",
       "      <td>0.09</td>\n",
       "      <td>5879.0</td>\n",
       "      <td>0.18</td>\n",
       "      <td>NaN</td>\n",
       "    </tr>\n",
       "    <tr>\n",
       "      <th>4007</th>\n",
       "      <td>HD 114783 c</td>\n",
       "      <td>Nasa Exoplanet Archive</td>\n",
       "      <td>Radial Velocity</td>\n",
       "      <td>0.611</td>\n",
       "      <td>0.611</td>\n",
       "      <td>NaN</td>\n",
       "      <td>4319</td>\n",
       "      <td>NaN</td>\n",
       "      <td>0</td>\n",
       "      <td>5135.0</td>\n",
       "      <td>0.21</td>\n",
       "      <td>NaN</td>\n",
       "    </tr>\n",
       "    <tr>\n",
       "      <th>4008</th>\n",
       "      <td>HR 858 b</td>\n",
       "      <td>Nasa Exoplanet Archive</td>\n",
       "      <td>Transit</td>\n",
       "      <td>NaN</td>\n",
       "      <td>NaN</td>\n",
       "      <td>0.186</td>\n",
       "      <td>3.58599</td>\n",
       "      <td>0.048</td>\n",
       "      <td>0.3</td>\n",
       "      <td>6201.0</td>\n",
       "      <td>-0.14</td>\n",
       "      <td>85.50</td>\n",
       "    </tr>\n",
       "    <tr>\n",
       "      <th>4009</th>\n",
       "      <td>GJ 4276 b</td>\n",
       "      <td>Nasa Exoplanet Archive</td>\n",
       "      <td>Radial Velocity</td>\n",
       "      <td>0.05213</td>\n",
       "      <td>0.05213</td>\n",
       "      <td>NaN</td>\n",
       "      <td>13.352</td>\n",
       "      <td>0.082</td>\n",
       "      <td>0.37</td>\n",
       "      <td>3387.0</td>\n",
       "      <td>0.12</td>\n",
       "      <td>NaN</td>\n",
       "    </tr>\n",
       "  </tbody>\n",
       "</table>\n",
       "<p>4009 rows × 12 columns</p>\n",
       "</div>"
      ],
      "text/plain": [
       "              Name               DB source Discovery Method       Mp  Mp_sini  \\\n",
       "1       CoRoT-12 b  Nasa Exoplanet Archive          Transit    0.917      NaN   \n",
       "2       CoRoT-18 b  Nasa Exoplanet Archive          Transit     3.47      NaN   \n",
       "3        HD 4208 b  Nasa Exoplanet Archive  Radial Velocity     0.81     0.81   \n",
       "4        HD 4313 b  Nasa Exoplanet Archive  Radial Velocity    1.927    1.927   \n",
       "5       HD 50499 b  Nasa Exoplanet Archive  Radial Velocity    1.636    1.636   \n",
       "...            ...                     ...              ...      ...      ...   \n",
       "4005  Kepler-248 c  Nasa Exoplanet Archive          Transit      NaN      NaN   \n",
       "4006    HD 34445 e  Nasa Exoplanet Archive  Radial Velocity   0.0529   0.0529   \n",
       "4007   HD 114783 c  Nasa Exoplanet Archive  Radial Velocity    0.611    0.611   \n",
       "4008      HR 858 b  Nasa Exoplanet Archive          Transit      NaN      NaN   \n",
       "4009     GJ 4276 b  Nasa Exoplanet Archive  Radial Velocity  0.05213  0.05213   \n",
       "\n",
       "         Rp          P        a      e   Tstar   FeH      i  \n",
       "1      1.44   2.828042  0.04016   0.07  5675.0  0.16  85.48  \n",
       "2      1.31  1.9000693   0.0295   0.08  5440.0 -0.10  86.50  \n",
       "3       NaN     832.97    1.662  0.042  5717.0 -0.28    NaN  \n",
       "4       NaN     356.21    1.157  0.147  4943.0   NaN    NaN  \n",
       "5       NaN     2447.1    3.833  0.266  6102.0  0.26    NaN  \n",
       "...     ...        ...      ...    ...     ...   ...    ...  \n",
       "4005  0.363  16.239494    0.123    NaN  5190.0   NaN    NaN  \n",
       "4006    NaN     49.175   0.2687   0.09  5879.0  0.18    NaN  \n",
       "4007    NaN       4319      NaN      0  5135.0  0.21    NaN  \n",
       "4008  0.186    3.58599    0.048    0.3  6201.0 -0.14  85.50  \n",
       "4009    NaN     13.352    0.082   0.37  3387.0  0.12    NaN  \n",
       "\n",
       "[4009 rows x 12 columns]"
      ]
     },
     "execution_count": 4,
     "metadata": {},
     "output_type": "execute_result"
    }
   ],
   "source": [
    "d_US=d_US[['Name','DB source', 'Discovery Method', 'Mp', 'Mp_sini', 'Rp','P','a','e','Tstar','FeH','i']]\n",
    "d_US\n",
    "#masses are in relation to Jupiter's mass, radius in relation to Jupiter's radius\"\n",
    "#Orbital period is is days, a in AU, i in degrees"
   ]
  },
  {
   "cell_type": "markdown",
   "metadata": {},
   "source": [
    "Below I'll be plotting relations between features. They have NaN values for different indices, so direct comparison can only be done where both of those parameters have numerical values. To perform that comparison I wrote two small functions, which are in in the next cell.\n",
    "\n",
    "The choice of said features is crucial in this study, so to have a better general idea of our data, I'll first try to understand the main planetary parameters' range, plotting some histograms."
   ]
  },
  {
   "cell_type": "code",
   "execution_count": 5,
   "metadata": {},
   "outputs": [],
   "source": [
    "def removenans(p1,typ=float):\n",
    "    \"takes a parameter and the type of its numerical elements (no second input sets it to float)\"\n",
    "    \"returns NaN-free parameter tuple and its indexes on the original list\"\n",
    "    l = np.array([])\n",
    "    for i in range(1,len(p1)):\n",
    "        if (type(p1[i])!=typ):\n",
    "            l=np.append(l,i)\n",
    "    return p1[l], l \n",
    "\n",
    "def compare_parameters(p1,p2):\n",
    "    \"takes two parameters, returns same parameters NaN-free for the same planets\"\n",
    "    p1, ind1 = removenans(p1)\n",
    "    p2, ind2 = removenans(p2)\n",
    "    l = np.array([])\n",
    "    for i,index1 in enumerate(ind1):\n",
    "        for j, index2 in enumerate(ind2):\n",
    "           if index1 == index2:\n",
    "            l = np.append(l,index1)\n",
    "    return p1[l], p2[l]"
   ]
  },
  {
   "cell_type": "code",
   "execution_count": 9,
   "metadata": {},
   "outputs": [
    {
     "name": "stdout",
     "output_type": "stream",
     "text": [
      "Max M_US 55.59 Max P_US 7300000.0 Max R_US 6.9\n",
      "Max M_EU 81.9 Max P_EU 730000.0 Max R_EU 6.52\n"
     ]
    }
   ],
   "source": [
    "M_US1,P_US1 = compare_parameters(pd.to_numeric(d_US.Mp),pd.to_numeric(d_US.P))\n",
    "M_EU1, P_EU1 = compare_parameters(pd.to_numeric(d_EU.Mp), pd.to_numeric(d_EU.P))\n",
    "\n",
    "M_US2,R_US2 = compare_parameters(pd.to_numeric(d_US.Mp),pd.to_numeric(d_US.Rp))\n",
    "M_EU2, R_EU2 = compare_parameters(pd.to_numeric(d_EU.Mp), pd.to_numeric(d_EU.Rp))\n",
    "\n",
    "#Even though mass is in both comparisons, R and P very likely has different places with NaN \n",
    "#values so the two mass lists are different, hence naming it differently. I'll adress\n",
    "#numbers in the order of comparisons/graphs I plot.\n",
    "\n",
    "print(r\"Max M_US\",np.max(M_US1),r\"Max P_US\",np.max(P_US1),r\"Max R_US\",np.max(R_US2))\n",
    "print(r\"Max M_EU\",np.max(M_EU1),r\"Max P_EU\",np.max(P_EU1),r\"Max R_EU\",np.max(R_EU2))"
   ]
  },
  {
   "cell_type": "code",
   "execution_count": 10,
   "metadata": {},
   "outputs": [
    {
     "data": {
      "image/png": "[encoded data removed]",
      "text/plain": [
       "<Figure size 432x288 with 1 Axes>"
      ]
     },
     "metadata": {
      "needs_background": "light"
     },
     "output_type": "display_data"
    },
    {
     "data": {
      "image/png": "[encoded data removed]",
      "text/plain": [
       "<Figure size 432x288 with 1 Axes>"
      ]
     },
     "metadata": {
      "needs_background": "light"
     },
     "output_type": "display_data"
    }
   ],
   "source": [
    "#M and R histograms\n",
    "params_US = [M_US1, R_US2]\n",
    "params_EU = [M_EU1, R_EU2]\n",
    "lims, b = [5, 2], [1000, 200]\n",
    "titles = [\"Mass\",\"Radius\"]\n",
    "names = [r\"M/M_J\",r\"R/R_J\"]\n",
    "\n",
    "for i in range(len(params_US)):\n",
    "    plt.hist(params_US[i],bins = b[i],label = \"NASA Exoplanet Archive\")\n",
    "    plt.hist(params_EU[i], bins = b[i], label=\"Exoplanet.eu\")\n",
    "    plt.ylabel(\"Number of occurences\")\n",
    "    plt.xlabel(names[i])\n",
    "    plt.xlim(0, lims[i])\n",
    "    plt.title(titles[i])\n",
    "    plt.legend()\n",
    "    plt.show()"
   ]
  },
  {
   "cell_type": "code",
   "execution_count": 11,
   "metadata": {},
   "outputs": [
    {
     "data": {
      "image/png": "[encoded data removed]",
      "text/plain": [
       "<Figure size 432x288 with 1 Axes>"
      ]
     },
     "metadata": {
      "needs_background": "light"
     },
     "output_type": "display_data"
    }
   ],
   "source": [
    "#P histogram - needs lots of bins, runs slowly\n",
    "plt.hist(P_US1,bins = 60000,label = \"NASA Exoplanet Archive\")\n",
    "plt.hist(P_EU1, bins = 40000, label=\"Exoplanet.eu\")\n",
    "plt.ylabel(\"Number of occurences\")\n",
    "plt.xlabel(\"P (days)\")\n",
    "plt.xlim(0, 400)\n",
    "plt.title(\"Orbital Period\")\n",
    "plt.legend()\n",
    "plt.show()"
   ]
  },
  {
   "cell_type": "markdown",
   "metadata": {},
   "source": [
    "<u>Conclusions:</u>\n",
    "* <b>Mass</b>: It was seen that most planets are within $1 M_J$, namely in the $\\leq 0.3 M_J$ margin. There is a sharp decrease in number of occurences between $0.2$ and $0.3 M_J$, then a slow and continuous descend after that.\n",
    "\n",
    "* <b>Radius</b>: One can also observe that most planets are within $0.5 R_J$, however, in this case there are two scatistically relevant regions, the first peaking at about $\\sim 0.2  R_J$ and the second at $\\sim 1.25 R_J$.\n",
    "\n",
    "* <b>Orbital period</b>: For orbital period, a great majority ($\\sim 90 \\%$ ) of planets have orbital periods inferior to 150 days.\n",
    "\n",
    "Now we can start visualizing the relationship between these quantities. "
   ]
  },
  {
   "cell_type": "markdown",
   "metadata": {},
   "source": [
    "We first aim to find three separate groups:\n",
    "* Hot jupiters: P $\\lesssim 7$ d, $M/M_J \\leq 12$; centered around $\\sim 1 M_J$ and $P \\sim 3$ d; \n",
    "* Eccentric giants: $10^2 d \\lesssim P \\lesssim 10^4 d$; $1 \\lesssim M/M_J \\leq 10$.\n",
    "* Ungiants: $P \\leq 100 d$; $ M/M_J \\lesssim 0.07$ and $R \\lesssim 0.35 R_J$\n",
    "\n",
    "$\\rightarrow$ <u>Task 1:</u>  plottting mass vs period."
   ]
  },
  {
   "cell_type": "markdown",
   "metadata": {},
   "source": [
    "# mass vs orbital period"
   ]
  },
  {
   "cell_type": "code",
   "execution_count": null,
   "metadata": {},
   "outputs": [],
   "source": [
    "M,P=12,10000\n",
    "plt.plot(P_US1, M_US1,'.',label = \"NASA Exoplanet Archive\")\n",
    "plt.plot(P_EU1, M_EU1, '.',label = \"Exoplanet.eu\")\n",
    "plt.ylabel(r\"$M/M_J$\")\n",
    "plt.ylim(0,M)\n",
    "plt.xlim(0,P)\n",
    "plt.xlabel(r\"$P (days)$\")\n",
    "plt.legend()\n",
    "plt.title(r\"Mass-Period for $M/M_J \\leq${}, P $\\leq$ {}\".format(M,P))\n",
    "plt.show()"
   ]
  },
  {
   "cell_type": "markdown",
   "metadata": {},
   "source": [
    "Which is a first visualization for the relationship between orbital period and mass, in the full range we're first studying.\n",
    "\n",
    "We can already see, for example, an interesting population of planets with orbital periods close to a few days. \n",
    "\n",
    "Limiting our range according to the groups we established:"
   ]
  },
  {
   "cell_type": "code",
   "execution_count": null,
   "metadata": {},
   "outputs": [],
   "source": [
    "Ms=[12,0.07,11]\n",
    "Ps=[7,100,10e4]\n",
    "lim=[(0,7),(0,100),(10e2,10e4)]\n",
    "titles=[\"Hot Jupiter candidates\",\"Ungiant candidates\",\"Eccentric Giants candidates, \"]\n",
    "for i in range(len(Ms)):\n",
    "    plt.plot(P_US1, M_US1,'.',label = \"NASA Exoplanet Archive\")\n",
    "    plt.plot(P_EU1, M_EU1, '.',label = \"Exoplanet.eu\")\n",
    "    plt.ylabel(r\"$M/M_J$\")\n",
    "    plt.ylim(0,Ms[i])\n",
    "    plt.xlim(lim[i])\n",
    "    plt.xlabel(r\"$P (days)$\")\n",
    "    plt.title(titles[i]+r\"$, M/M_J \\leq${}, P $\\leq$ {}\".format(Ms[i],Ps[i]))\n",
    "    plt.legend()\n",
    "    plt.show()"
   ]
  },
  {
   "cell_type": "markdown",
   "metadata": {},
   "source": [
    "# mass-radius-temperature"
   ]
  },
  {
   "cell_type": "markdown",
   "metadata": {},
   "source": [
    "To calculate $T_{eq}$, one needs a further parameter, the planet's bond Albedo $A_B$:\n",
    "\n",
    "$$T_{eq}=T_{star} \\sqrt{\\frac{R}{2 a}}(1-A_{B})^{1 / 4}$$\n"
   ]
  },
  {
   "cell_type": "markdown",
   "metadata": {},
   "source": [
    "I'll first plot radius-mass."
   ]
  },
  {
   "cell_type": "code",
   "execution_count": null,
   "metadata": {},
   "outputs": [],
   "source": [
    "Ms=[12,10,0.07]\n",
    "Rs=[4,2,0.35]\n",
    "titles=[\"\",\"\",\"Ungiant candidates, \"]\n",
    "for i in range(len(Ms)):\n",
    "    plt.plot(M_US2, R_US2, '.' ,label = \"NASA Exoplanet Archive\")\n",
    "    plt.plot(M_EU2, R_EU2, '.' ,label = \"Exoplanet.eu\")\n",
    "    plt.xlabel(r\"$M/M_J$\")\n",
    "    plt.xlim(0,Ms[i])\n",
    "    plt.ylim(0,Rs[i])\n",
    "    plt.ylabel(r\"$R/R_J$\")\n",
    "    plt.legend()\n",
    "    plt.title(titles[i]+r\"$R/R_J \\leq${}, M/M_J $\\leq$ {}\".format(Rs[i],Ms[i]))\n",
    "    plt.show()"
   ]
  },
  {
   "cell_type": "code",
   "execution_count": null,
   "metadata": {},
   "outputs": [],
   "source": []
  },
  {
   "cell_type": "code",
   "execution_count": null,
   "metadata": {},
   "outputs": [],
   "source": []
  }
 ],
 "metadata": {
  "kernelspec": {
   "display_name": "Python 3",
   "language": "python",
   "name": "python3"
  },
  "language_info": {
   "codemirror_mode": {
    "name": "ipython",
    "version": 3
   },
   "file_extension": ".py",
   "mimetype": "text/x-python",
   "name": "python",
   "nbconvert_exporter": "python",
   "pygments_lexer": "ipython3",
   "version": "3.8.1"
  }
 },
 "nbformat": 4,
 "nbformat_minor": 2
}
