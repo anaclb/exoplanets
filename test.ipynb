{
 "cells": [
  {
   "cell_type": "code",
   "execution_count": 805,
   "metadata": {},
   "outputs": [],
   "source": [
    "import pandas as pd\n",
    "import os\n",
    "from astropy.io import ascii\n",
    "import numpy as np\n",
    "import matplotlib.pyplot as plt"
   ]
  },
  {
   "cell_type": "markdown",
   "metadata": {},
   "source": [
    "# Parameters wanted:\n",
    "   *  Mass, radius, orbital period, host star metallicity, eccentricity, equilibrium temperature."
   ]
  },
  {
   "cell_type": "code",
   "execution_count": 173,
   "metadata": {},
   "outputs": [],
   "source": [
    "file_US=\"/home/bolacha/University/Project/code/data2-example/selection_US.rdb\"\n",
    "file_EU=\"/home/bolacha/University/Project/code/data2-example/selection_EU.rdb\""
   ]
  },
  {
   "cell_type": "code",
   "execution_count": 744,
   "metadata": {},
   "outputs": [],
   "source": [
    "file1=pd.read_csv(file_US, sep = '\\t',header=[2])\n",
    "file2=pd.read_csv(file_EU, sep = '\\t',header=[2])\n",
    "d_US, d_EU = pd.DataFrame(file1), pd.DataFrame(file2)\n",
    "d_US,d_EU = d_US.iloc[1:,:45], d_EU.iloc[1:,:45]\n",
    "d_US, d_EU = d_US.astype(float), d_EU.astype(float)\n",
    "\n",
    "d_US.rename(columns={\"null\": \"Name\", \"null.1\": \"DB source\", \"null.2\": \"Discovery Method\", \"JUPITERMASS\" : \"Mp\", \"JUPITERMASS.1\": \"Mp_sini\", \"JUPITERRADIUS\": \"Rp\", \"DAY\": \"P\", \"AU\":\"a\",\"null.3\":\"e\",\"KELVIN\":\"Tstar\", \"null.4\":\"FeH\",\"DEG\":\"i\" },inplace=True)\n",
    "d_EU.rename(columns={\"null\": \"Name\", \"null.1\": \"DB source\", \"null.2\": \"Discovery Method\", \"JUPITERMASS\" : \"Mp\", \"JUPITERMASS.1\": \"Mp_sini\", \"JUPITERRADIUS\": \"Rp\", \"DAY\": \"P\", \"AU\":\"a\",\"null.3\":\"e\",\"KELVIN\":\"Tstar\", \"null.4\":\"FeH\",\"DEG\":\"i\"},inplace=True)"
   ]
  },
  {
   "cell_type": "code",
   "execution_count": 754,
   "metadata": {},
   "outputs": [
    {
     "data": {
      "text/html": [
       "<div>\n",
       "<style scoped>\n",
       "    .dataframe tbody tr th:only-of-type {\n",
       "        vertical-align: middle;\n",
       "    }\n",
       "\n",
       "    .dataframe tbody tr th {\n",
       "        vertical-align: top;\n",
       "    }\n",
       "\n",
       "    .dataframe thead th {\n",
       "        text-align: right;\n",
       "    }\n",
       "</style>\n",
       "<table border=\"1\" class=\"dataframe\">\n",
       "  <thead>\n",
       "    <tr style=\"text-align: right;\">\n",
       "      <th></th>\n",
       "      <th>Name</th>\n",
       "      <th>DB source</th>\n",
       "      <th>Discovery Method</th>\n",
       "      <th>Mp</th>\n",
       "      <th>Mp_sini</th>\n",
       "      <th>Rp</th>\n",
       "      <th>P</th>\n",
       "      <th>a</th>\n",
       "      <th>e</th>\n",
       "      <th>Tstar</th>\n",
       "      <th>FeH</th>\n",
       "      <th>i</th>\n",
       "    </tr>\n",
       "  </thead>\n",
       "  <tbody>\n",
       "    <tr>\n",
       "      <th>1</th>\n",
       "      <td>CoRoT-12 b</td>\n",
       "      <td>Nasa Exoplanet Archive</td>\n",
       "      <td>Transit</td>\n",
       "      <td>0.917</td>\n",
       "      <td>NaN</td>\n",
       "      <td>1.44</td>\n",
       "      <td>2.828042</td>\n",
       "      <td>0.04016</td>\n",
       "      <td>0.07</td>\n",
       "      <td>5675.0</td>\n",
       "      <td>0.16</td>\n",
       "      <td>85.48</td>\n",
       "    </tr>\n",
       "    <tr>\n",
       "      <th>2</th>\n",
       "      <td>CoRoT-18 b</td>\n",
       "      <td>Nasa Exoplanet Archive</td>\n",
       "      <td>Transit</td>\n",
       "      <td>3.47</td>\n",
       "      <td>NaN</td>\n",
       "      <td>1.31</td>\n",
       "      <td>1.9000693</td>\n",
       "      <td>0.0295</td>\n",
       "      <td>0.08</td>\n",
       "      <td>5440.0</td>\n",
       "      <td>-0.10</td>\n",
       "      <td>86.50</td>\n",
       "    </tr>\n",
       "    <tr>\n",
       "      <th>3</th>\n",
       "      <td>HD 4208 b</td>\n",
       "      <td>Nasa Exoplanet Archive</td>\n",
       "      <td>Radial Velocity</td>\n",
       "      <td>0.81</td>\n",
       "      <td>0.81</td>\n",
       "      <td>NaN</td>\n",
       "      <td>832.97</td>\n",
       "      <td>1.662</td>\n",
       "      <td>0.042</td>\n",
       "      <td>5717.0</td>\n",
       "      <td>-0.28</td>\n",
       "      <td>NaN</td>\n",
       "    </tr>\n",
       "    <tr>\n",
       "      <th>4</th>\n",
       "      <td>HD 4313 b</td>\n",
       "      <td>Nasa Exoplanet Archive</td>\n",
       "      <td>Radial Velocity</td>\n",
       "      <td>1.927</td>\n",
       "      <td>1.927</td>\n",
       "      <td>NaN</td>\n",
       "      <td>356.21</td>\n",
       "      <td>1.157</td>\n",
       "      <td>0.147</td>\n",
       "      <td>4943.0</td>\n",
       "      <td>NaN</td>\n",
       "      <td>NaN</td>\n",
       "    </tr>\n",
       "    <tr>\n",
       "      <th>5</th>\n",
       "      <td>HD 50499 b</td>\n",
       "      <td>Nasa Exoplanet Archive</td>\n",
       "      <td>Radial Velocity</td>\n",
       "      <td>1.636</td>\n",
       "      <td>1.636</td>\n",
       "      <td>NaN</td>\n",
       "      <td>2447.1</td>\n",
       "      <td>3.833</td>\n",
       "      <td>0.266</td>\n",
       "      <td>6102.0</td>\n",
       "      <td>0.26</td>\n",
       "      <td>NaN</td>\n",
       "    </tr>\n",
       "    <tr>\n",
       "      <th>...</th>\n",
       "      <td>...</td>\n",
       "      <td>...</td>\n",
       "      <td>...</td>\n",
       "      <td>...</td>\n",
       "      <td>...</td>\n",
       "      <td>...</td>\n",
       "      <td>...</td>\n",
       "      <td>...</td>\n",
       "      <td>...</td>\n",
       "      <td>...</td>\n",
       "      <td>...</td>\n",
       "      <td>...</td>\n",
       "    </tr>\n",
       "    <tr>\n",
       "      <th>4005</th>\n",
       "      <td>Kepler-248 c</td>\n",
       "      <td>Nasa Exoplanet Archive</td>\n",
       "      <td>Transit</td>\n",
       "      <td>NaN</td>\n",
       "      <td>NaN</td>\n",
       "      <td>0.363</td>\n",
       "      <td>16.239494</td>\n",
       "      <td>0.123</td>\n",
       "      <td>NaN</td>\n",
       "      <td>5190.0</td>\n",
       "      <td>NaN</td>\n",
       "      <td>NaN</td>\n",
       "    </tr>\n",
       "    <tr>\n",
       "      <th>4006</th>\n",
       "      <td>HD 34445 e</td>\n",
       "      <td>Nasa Exoplanet Archive</td>\n",
       "      <td>Radial Velocity</td>\n",
       "      <td>0.0529</td>\n",
       "      <td>0.0529</td>\n",
       "      <td>NaN</td>\n",
       "      <td>49.175</td>\n",
       "      <td>0.2687</td>\n",
       "      <td>0.09</td>\n",
       "      <td>5879.0</td>\n",
       "      <td>0.18</td>\n",
       "      <td>NaN</td>\n",
       "    </tr>\n",
       "    <tr>\n",
       "      <th>4007</th>\n",
       "      <td>HD 114783 c</td>\n",
       "      <td>Nasa Exoplanet Archive</td>\n",
       "      <td>Radial Velocity</td>\n",
       "      <td>0.611</td>\n",
       "      <td>0.611</td>\n",
       "      <td>NaN</td>\n",
       "      <td>4319</td>\n",
       "      <td>NaN</td>\n",
       "      <td>0</td>\n",
       "      <td>5135.0</td>\n",
       "      <td>0.21</td>\n",
       "      <td>NaN</td>\n",
       "    </tr>\n",
       "    <tr>\n",
       "      <th>4008</th>\n",
       "      <td>HR 858 b</td>\n",
       "      <td>Nasa Exoplanet Archive</td>\n",
       "      <td>Transit</td>\n",
       "      <td>NaN</td>\n",
       "      <td>NaN</td>\n",
       "      <td>0.186</td>\n",
       "      <td>3.58599</td>\n",
       "      <td>0.048</td>\n",
       "      <td>0.3</td>\n",
       "      <td>6201.0</td>\n",
       "      <td>-0.14</td>\n",
       "      <td>85.50</td>\n",
       "    </tr>\n",
       "    <tr>\n",
       "      <th>4009</th>\n",
       "      <td>GJ 4276 b</td>\n",
       "      <td>Nasa Exoplanet Archive</td>\n",
       "      <td>Radial Velocity</td>\n",
       "      <td>0.05213</td>\n",
       "      <td>0.05213</td>\n",
       "      <td>NaN</td>\n",
       "      <td>13.352</td>\n",
       "      <td>0.082</td>\n",
       "      <td>0.37</td>\n",
       "      <td>3387.0</td>\n",
       "      <td>0.12</td>\n",
       "      <td>NaN</td>\n",
       "    </tr>\n",
       "  </tbody>\n",
       "</table>\n",
       "<p>4009 rows × 12 columns</p>\n",
       "</div>"
      ],
      "text/plain": [
       "              Name               DB source Discovery Method       Mp  Mp_sini  \\\n",
       "1       CoRoT-12 b  Nasa Exoplanet Archive          Transit    0.917      NaN   \n",
       "2       CoRoT-18 b  Nasa Exoplanet Archive          Transit     3.47      NaN   \n",
       "3        HD 4208 b  Nasa Exoplanet Archive  Radial Velocity     0.81     0.81   \n",
       "4        HD 4313 b  Nasa Exoplanet Archive  Radial Velocity    1.927    1.927   \n",
       "5       HD 50499 b  Nasa Exoplanet Archive  Radial Velocity    1.636    1.636   \n",
       "...            ...                     ...              ...      ...      ...   \n",
       "4005  Kepler-248 c  Nasa Exoplanet Archive          Transit      NaN      NaN   \n",
       "4006    HD 34445 e  Nasa Exoplanet Archive  Radial Velocity   0.0529   0.0529   \n",
       "4007   HD 114783 c  Nasa Exoplanet Archive  Radial Velocity    0.611    0.611   \n",
       "4008      HR 858 b  Nasa Exoplanet Archive          Transit      NaN      NaN   \n",
       "4009     GJ 4276 b  Nasa Exoplanet Archive  Radial Velocity  0.05213  0.05213   \n",
       "\n",
       "         Rp          P        a      e   Tstar   FeH      i  \n",
       "1      1.44   2.828042  0.04016   0.07  5675.0  0.16  85.48  \n",
       "2      1.31  1.9000693   0.0295   0.08  5440.0 -0.10  86.50  \n",
       "3       NaN     832.97    1.662  0.042  5717.0 -0.28    NaN  \n",
       "4       NaN     356.21    1.157  0.147  4943.0   NaN    NaN  \n",
       "5       NaN     2447.1    3.833  0.266  6102.0  0.26    NaN  \n",
       "...     ...        ...      ...    ...     ...   ...    ...  \n",
       "4005  0.363  16.239494    0.123    NaN  5190.0   NaN    NaN  \n",
       "4006    NaN     49.175   0.2687   0.09  5879.0  0.18    NaN  \n",
       "4007    NaN       4319      NaN      0  5135.0  0.21    NaN  \n",
       "4008  0.186    3.58599    0.048    0.3  6201.0 -0.14  85.50  \n",
       "4009    NaN     13.352    0.082   0.37  3387.0  0.12    NaN  \n",
       "\n",
       "[4009 rows x 12 columns]"
      ]
     },
     "execution_count": 754,
     "metadata": {},
     "output_type": "execute_result"
    }
   ],
   "source": [
    "d_US=d_US[['Name','DB source', 'Discovery Method', 'Mp', 'Mp_sini', 'Rp','P','a','e','Tstar','FeH','i']]\n",
    "d_US\n",
    "#masses are in relation to Jupiter's mass, radius in relation to Jupiter's radius\"\n",
    "#Orbital period is is days, a in AU, i in degrees"
   ]
  },
  {
   "cell_type": "markdown",
   "metadata": {},
   "source": [
    "# Task 1: mass-period graph\n",
    "We first need to deal with the NaNs."
   ]
  },
  {
   "cell_type": "code",
   "execution_count": 774,
   "metadata": {},
   "outputs": [
    {
     "name": "stdout",
     "output_type": "stream",
     "text": [
      "Max M_US 55.59 Max P_US 7300000.0\n",
      "Max M_EU 81.9 Max P_EU 730000.0\n"
     ]
    }
   ],
   "source": [
    "def removenans(p1,typ=float):\n",
    "    \"returns NaN-free parameter tuple and its indexes on the original list\"\n",
    "    l=np.array([])\n",
    "    for i in range(1,len(p1)):\n",
    "        if (type(p1[i])!=typ): #for some reason i've been getting errors with np.where\n",
    "            l=np.append(l,i)  #this does the trick but I'm aware it is inefficient\n",
    "    return p1[l], l \n",
    "\n",
    "def compare_parameters(p1,p2):\n",
    "    \"return two NaN-free parameters for the same planets\"\n",
    "    p1, ind1 = removenans(p1)\n",
    "    p2, ind2 = removenans(p2)\n",
    "    l=np.array([])\n",
    "    for i,index1 in enumerate(ind1):   #same thing :(\n",
    "        for j, index2 in enumerate(ind2):\n",
    "           if index1==index2:\n",
    "            l=np.append(l,index1)\n",
    "    return p1[l],p2[l]\n",
    "\n",
    "M_US,P_US = compare_parameters(pd.to_numeric(d_US.Mp),pd.to_numeric(d_US.P))\n",
    "M_EU, P_EU = compare_parameters(pd.to_numeric(d_EU.Mp), pd.to_numeric(d_EU.P))\n",
    "print(\"Max M_US\",np.max(M_US),\"Max P_US\",np.max(P_US))\n",
    "print(\"Max M_EU\",np.max(M_EU),\"Max P_EU\",np.max(P_EU))"
   ]
  },
  {
   "cell_type": "code",
   "execution_count": 803,
   "metadata": {},
   "outputs": [
    {
     "data": {
      "image/png": "[encoded data removed]",
      "text/plain": [
       "<Figure size 432x288 with 1 Axes>"
      ]
     },
     "metadata": {
      "needs_background": "light"
     },
     "output_type": "display_data"
    }
   ],
   "source": [
    "plt.plot(M_US, P_US, '.',label = \"NASA Exoplanet Archive\")\n",
    "plt.plot(M_EU, P_EU, '.',label = \"Exoplanet.eu\")\n",
    "plt.xlabel(r\"$M/M_J$\",color=\"white\")\n",
    "plt.xlim(0,80)\n",
    "plt.ylim(0,5000)\n",
    "plt.ylabel(r\"$P (days)$\",color=\"white\")\n",
    "plt.legend()\n",
    "plt.title(\"Mass-Period, broad range\",color=\"white\")\n",
    "plt.show()"
   ]
  },
  {
   "cell_type": "code",
   "execution_count": 806,
   "metadata": {},
   "outputs": [
    {
     "data": {
      "image/png": "[encoded data removed]",
      "text/plain": [
       "<Figure size 432x288 with 1 Axes>"
      ]
     },
     "metadata": {
      "needs_background": "light"
     },
     "output_type": "display_data"
    }
   ],
   "source": [
    "plt.plot(M_US, P_US, '.',label = \"NASA Exoplanet Archive\")\n",
    "plt.plot(M_EU, P_EU, '.',label = \"Exoplanet.eu\")\n",
    "plt.xlabel(r\"$M/M_J$\",color=\"white\")\n",
    "plt.xlim(0,20)\n",
    "plt.ylim(0,100)\n",
    "plt.ylabel(r\"$P (days)$\",color=\"white\")\n",
    "plt.legend()\n",
    "plt.title(r\"Mass-Period, for P $\\leq$ 100 d, M $\\leq 20 M_J$\", color=\"white\")\n",
    "plt.show()"
   ]
  },
  {
   "cell_type": "markdown",
   "metadata": {},
   "source": [
    "# 2nd task: mass-radius-temperature"
   ]
  },
  {
   "cell_type": "markdown",
   "metadata": {},
   "source": [
    "For a first trial, for the first categories listed we will need $M_p$, $R_p$ e, a, P, [Fe/H], $T_{eq}$.\n",
    "To calculate $T_{eq}$, one needs a further parameter, the planet's bond Albedo $A_B$:\n",
    "\\begin{equation}\n",
    "T_{e q}=T_{\\text {star}} \\sqrt{\\frac{R}{2 a}}\\left(1-A_{B}\\right)^{1 / 4}\n",
    "\\end{equation}\n"
   ]
  },
  {
   "cell_type": "code",
   "execution_count": 787,
   "metadata": {},
   "outputs": [
    {
     "name": "stdout",
     "output_type": "stream",
     "text": [
      "Max M_US 55.59 Max R_US 6.9\n",
      "Max M_EU 81.9 Max R_EU 6.52\n"
     ]
    }
   ],
   "source": [
    "M_US,R_US = compare_parameters(pd.to_numeric(d_US.Mp),pd.to_numeric(d_US.Rp))\n",
    "M_EU, R_EU = compare_parameters(pd.to_numeric(d_EU.Mp), pd.to_numeric(d_EU.Rp))\n",
    "\n",
    "print(\"Max M_US\",np.max(M_US),\"Max R_US\",np.max(R_US))\n",
    "print(\"Max M_EU\",np.max(M_EU),\"Max R_EU\",np.max(R_EU))"
   ]
  },
  {
   "cell_type": "code",
   "execution_count": null,
   "metadata": {},
   "outputs": [],
   "source": []
  }
 ],
 "metadata": {
  "kernelspec": {
   "display_name": "Python 3",
   "language": "python",
   "name": "python3"
  },
  "language_info": {
   "codemirror_mode": {
    "name": "ipython",
    "version": 3
   },
   "file_extension": ".py",
   "mimetype": "text/x-python",
   "name": "python",
   "nbconvert_exporter": "python",
   "pygments_lexer": "ipython3",
   "version": "3.8.1"
  }
 },
 "nbformat": 4,
 "nbformat_minor": 2
}
