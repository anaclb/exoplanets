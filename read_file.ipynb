{
 "cells": [
  {
   "cell_type": "code",
   "execution_count": 2,
   "metadata": {},
   "outputs": [],
   "source": [
    "import pandas as pd\n",
    "import os\n",
    "import numpy as np\n",
    "import matplotlib.pyplot as plt\n",
    "from sklearn.cluster import KMeans"
   ]
  },
  {
   "cell_type": "markdown",
   "metadata": {},
   "source": [
    "# Parameters wanted:\n",
    "   *  Mass, radius, orbital period, host star metallicity, eccentricity, equilibrium temperature.\n",
    "   * Semimajor axis a may be relevant too"
   ]
  },
  {
   "cell_type": "code",
   "execution_count": 3,
   "metadata": {},
   "outputs": [],
   "source": [
    "file_US=\"/home/bolacha/University/Project/code/data2-example/selection_US.rdb\"\n",
    "file_EU=\"/home/bolacha/University/Project/code/data2-example/selection_EU.rdb\""
   ]
  },
  {
   "cell_type": "code",
   "execution_count": 5,
   "metadata": {},
   "outputs": [
    {
     "data": {
      "text/html": [
       "<div>\n",
       "<style scoped>\n",
       "    .dataframe tbody tr th:only-of-type {\n",
       "        vertical-align: middle;\n",
       "    }\n",
       "\n",
       "    .dataframe tbody tr th {\n",
       "        vertical-align: top;\n",
       "    }\n",
       "\n",
       "    .dataframe thead th {\n",
       "        text-align: right;\n",
       "    }\n",
       "</style>\n",
       "<table border=\"1\" class=\"dataframe\">\n",
       "  <thead>\n",
       "    <tr style=\"text-align: right;\">\n",
       "      <th></th>\n",
       "      <th>db_info_name</th>\n",
       "      <th>pub_info_detectiontype</th>\n",
       "      <th>obj_phys_mass_mjup</th>\n",
       "      <th>obj_phys_msini_mjup</th>\n",
       "      <th>obj_phys_radius_rjup</th>\n",
       "      <th>obj_orb_period_day</th>\n",
       "      <th>obj_orb_a_au</th>\n",
       "      <th>obj_orb_ecc</th>\n",
       "      <th>obj_parent_phys_teff_k</th>\n",
       "      <th>obj_parent_phys_feh</th>\n",
       "      <th>obj_orb_inc_deg</th>\n",
       "    </tr>\n",
       "    <tr>\n",
       "      <th>obj_id_catname</th>\n",
       "      <th></th>\n",
       "      <th></th>\n",
       "      <th></th>\n",
       "      <th></th>\n",
       "      <th></th>\n",
       "      <th></th>\n",
       "      <th></th>\n",
       "      <th></th>\n",
       "      <th></th>\n",
       "      <th></th>\n",
       "      <th></th>\n",
       "    </tr>\n",
       "  </thead>\n",
       "  <tbody>\n",
       "    <tr>\n",
       "      <th>BD+20 2457 b</th>\n",
       "      <td>Exoplanet.eu</td>\n",
       "      <td>Radial Velocity</td>\n",
       "      <td>NaN</td>\n",
       "      <td>21.4200</td>\n",
       "      <td>NaN</td>\n",
       "      <td>379.630000</td>\n",
       "      <td>1.4500</td>\n",
       "      <td>False</td>\n",
       "      <td>False</td>\n",
       "      <td>0.15</td>\n",
       "      <td>False</td>\n",
       "    </tr>\n",
       "    <tr>\n",
       "      <th>2MASS J2250+2325 b</th>\n",
       "      <td>Exoplanet.eu</td>\n",
       "      <td>Imaging</td>\n",
       "      <td>30.0000</td>\n",
       "      <td>NaN</td>\n",
       "      <td>NaN</td>\n",
       "      <td>NaN</td>\n",
       "      <td>518.0000</td>\n",
       "      <td>False</td>\n",
       "      <td>False</td>\n",
       "      <td>NaN</td>\n",
       "      <td>False</td>\n",
       "    </tr>\n",
       "    <tr>\n",
       "      <th>CoRoT-26 b</th>\n",
       "      <td>Exoplanet.eu</td>\n",
       "      <td>Transit</td>\n",
       "      <td>0.5200</td>\n",
       "      <td>NaN</td>\n",
       "      <td>1.260</td>\n",
       "      <td>4.204740</td>\n",
       "      <td>0.0526</td>\n",
       "      <td>False</td>\n",
       "      <td>False</td>\n",
       "      <td>0.00</td>\n",
       "      <td>False</td>\n",
       "    </tr>\n",
       "    <tr>\n",
       "      <th>EPIC 220194974 d</th>\n",
       "      <td>Exoplanet.eu</td>\n",
       "      <td>Transit</td>\n",
       "      <td>NaN</td>\n",
       "      <td>NaN</td>\n",
       "      <td>0.146</td>\n",
       "      <td>9.757900</td>\n",
       "      <td>0.0774</td>\n",
       "      <td>False</td>\n",
       "      <td>False</td>\n",
       "      <td>NaN</td>\n",
       "      <td>False</td>\n",
       "    </tr>\n",
       "    <tr>\n",
       "      <th>EPIC 248545986 d</th>\n",
       "      <td>Exoplanet.eu</td>\n",
       "      <td>Transit</td>\n",
       "      <td>0.0041</td>\n",
       "      <td>NaN</td>\n",
       "      <td>0.098</td>\n",
       "      <td>10.115000</td>\n",
       "      <td>0.0685</td>\n",
       "      <td>False</td>\n",
       "      <td>False</td>\n",
       "      <td>NaN</td>\n",
       "      <td>False</td>\n",
       "    </tr>\n",
       "    <tr>\n",
       "      <th>...</th>\n",
       "      <td>...</td>\n",
       "      <td>...</td>\n",
       "      <td>...</td>\n",
       "      <td>...</td>\n",
       "      <td>...</td>\n",
       "      <td>...</td>\n",
       "      <td>...</td>\n",
       "      <td>...</td>\n",
       "      <td>...</td>\n",
       "      <td>...</td>\n",
       "      <td>...</td>\n",
       "    </tr>\n",
       "    <tr>\n",
       "      <th>WASP-167 b</th>\n",
       "      <td>Exoplanet.eu</td>\n",
       "      <td>Transit</td>\n",
       "      <td>8.0000</td>\n",
       "      <td>NaN</td>\n",
       "      <td>1.510</td>\n",
       "      <td>2.021959</td>\n",
       "      <td>0.0365</td>\n",
       "      <td>False</td>\n",
       "      <td>False</td>\n",
       "      <td>NaN</td>\n",
       "      <td>False</td>\n",
       "    </tr>\n",
       "    <tr>\n",
       "      <th>WASP-25 b</th>\n",
       "      <td>Exoplanet.eu</td>\n",
       "      <td>Transit</td>\n",
       "      <td>0.5800</td>\n",
       "      <td>NaN</td>\n",
       "      <td>1.260</td>\n",
       "      <td>3.764830</td>\n",
       "      <td>0.0474</td>\n",
       "      <td>False</td>\n",
       "      <td>False</td>\n",
       "      <td>0.00</td>\n",
       "      <td>False</td>\n",
       "    </tr>\n",
       "    <tr>\n",
       "      <th>WD 0837+185 B</th>\n",
       "      <td>Exoplanet.eu</td>\n",
       "      <td>Radial Velocity</td>\n",
       "      <td>30.0000</td>\n",
       "      <td>25.0000</td>\n",
       "      <td>NaN</td>\n",
       "      <td>0.175000</td>\n",
       "      <td>0.0060</td>\n",
       "      <td>False</td>\n",
       "      <td>False</td>\n",
       "      <td>NaN</td>\n",
       "      <td>False</td>\n",
       "    </tr>\n",
       "    <tr>\n",
       "      <th>eta Cet c</th>\n",
       "      <td>Exoplanet.eu</td>\n",
       "      <td>Radial Velocity</td>\n",
       "      <td>NaN</td>\n",
       "      <td>3.3200</td>\n",
       "      <td>NaN</td>\n",
       "      <td>751.900000</td>\n",
       "      <td>1.9300</td>\n",
       "      <td>False</td>\n",
       "      <td>False</td>\n",
       "      <td>0.10</td>\n",
       "      <td>False</td>\n",
       "    </tr>\n",
       "    <tr>\n",
       "      <th>tau Cet e</th>\n",
       "      <td>Exoplanet.eu</td>\n",
       "      <td>Radial Velocity</td>\n",
       "      <td>NaN</td>\n",
       "      <td>0.0124</td>\n",
       "      <td>NaN</td>\n",
       "      <td>162.870000</td>\n",
       "      <td>0.5380</td>\n",
       "      <td>False</td>\n",
       "      <td>False</td>\n",
       "      <td>0.18</td>\n",
       "      <td>False</td>\n",
       "    </tr>\n",
       "  </tbody>\n",
       "</table>\n",
       "<p>4096 rows × 11 columns</p>\n",
       "</div>"
      ],
      "text/plain": [
       "                    db_info_name pub_info_detectiontype  obj_phys_mass_mjup  \\\n",
       "obj_id_catname                                                                \n",
       "BD+20 2457 b        Exoplanet.eu        Radial Velocity                 NaN   \n",
       "2MASS J2250+2325 b  Exoplanet.eu                Imaging             30.0000   \n",
       "CoRoT-26 b          Exoplanet.eu                Transit              0.5200   \n",
       "EPIC 220194974 d    Exoplanet.eu                Transit                 NaN   \n",
       "EPIC 248545986 d    Exoplanet.eu                Transit              0.0041   \n",
       "...                          ...                    ...                 ...   \n",
       "WASP-167 b          Exoplanet.eu                Transit              8.0000   \n",
       "WASP-25 b           Exoplanet.eu                Transit              0.5800   \n",
       "WD 0837+185 B       Exoplanet.eu        Radial Velocity             30.0000   \n",
       "eta Cet c           Exoplanet.eu        Radial Velocity                 NaN   \n",
       "tau Cet e           Exoplanet.eu        Radial Velocity                 NaN   \n",
       "\n",
       "                    obj_phys_msini_mjup  obj_phys_radius_rjup  \\\n",
       "obj_id_catname                                                  \n",
       "BD+20 2457 b                    21.4200                   NaN   \n",
       "2MASS J2250+2325 b                  NaN                   NaN   \n",
       "CoRoT-26 b                          NaN                 1.260   \n",
       "EPIC 220194974 d                    NaN                 0.146   \n",
       "EPIC 248545986 d                    NaN                 0.098   \n",
       "...                                 ...                   ...   \n",
       "WASP-167 b                          NaN                 1.510   \n",
       "WASP-25 b                           NaN                 1.260   \n",
       "WD 0837+185 B                   25.0000                   NaN   \n",
       "eta Cet c                        3.3200                   NaN   \n",
       "tau Cet e                        0.0124                   NaN   \n",
       "\n",
       "                    obj_orb_period_day  obj_orb_a_au  obj_orb_ecc  \\\n",
       "obj_id_catname                                                      \n",
       "BD+20 2457 b                379.630000        1.4500        False   \n",
       "2MASS J2250+2325 b                 NaN      518.0000        False   \n",
       "CoRoT-26 b                    4.204740        0.0526        False   \n",
       "EPIC 220194974 d              9.757900        0.0774        False   \n",
       "EPIC 248545986 d             10.115000        0.0685        False   \n",
       "...                                ...           ...          ...   \n",
       "WASP-167 b                    2.021959        0.0365        False   \n",
       "WASP-25 b                     3.764830        0.0474        False   \n",
       "WD 0837+185 B                 0.175000        0.0060        False   \n",
       "eta Cet c                   751.900000        1.9300        False   \n",
       "tau Cet e                   162.870000        0.5380        False   \n",
       "\n",
       "                    obj_parent_phys_teff_k  obj_parent_phys_feh  \\\n",
       "obj_id_catname                                                    \n",
       "BD+20 2457 b                         False                 0.15   \n",
       "2MASS J2250+2325 b                   False                  NaN   \n",
       "CoRoT-26 b                           False                 0.00   \n",
       "EPIC 220194974 d                     False                  NaN   \n",
       "EPIC 248545986 d                     False                  NaN   \n",
       "...                                    ...                  ...   \n",
       "WASP-167 b                           False                  NaN   \n",
       "WASP-25 b                            False                 0.00   \n",
       "WD 0837+185 B                        False                  NaN   \n",
       "eta Cet c                            False                 0.10   \n",
       "tau Cet e                            False                 0.18   \n",
       "\n",
       "                    obj_orb_inc_deg  \n",
       "obj_id_catname                       \n",
       "BD+20 2457 b                  False  \n",
       "2MASS J2250+2325 b            False  \n",
       "CoRoT-26 b                    False  \n",
       "EPIC 220194974 d              False  \n",
       "EPIC 248545986 d              False  \n",
       "...                             ...  \n",
       "WASP-167 b                    False  \n",
       "WASP-25 b                     False  \n",
       "WD 0837+185 B                 False  \n",
       "eta Cet c                     False  \n",
       "tau Cet e                     False  \n",
       "\n",
       "[4096 rows x 11 columns]"
      ]
     },
     "execution_count": 5,
     "metadata": {},
     "output_type": "execute_result"
    }
   ],
   "source": [
    "def read_file(file, removeNaN=False, params=0):\n",
    "    database = np.genfromtxt(file_EU, comments=\"--\", skip_header=4,\n",
    "                            dtype=None, delimiter=\"\\t\", encoding=None)\n",
    "    df = pd.DataFrame(database)\n",
    "    with open(file) as f:\n",
    "        columns = f.readline()\n",
    "    columns = columns.replace(\"\\n\", \"\")\n",
    "    columns = columns.split('\\t')\n",
    "    n = len(columns)\n",
    "    df = df.iloc[:,:n]\n",
    "    df.columns = columns\n",
    "    df = pd.DataFrame.set_index(df,keys='obj_id_catname')\n",
    "    if params != 0:\n",
    "        df = df[params]\n",
    "    if removeNaN == True:\n",
    "        df = pd.DataFrame.dropna(df,axis=0, how='any')\n",
    "    return df\n",
    "           \n",
    "d_US_test = read_file(file_US)\n",
    "d_US_test"
   ]
  },
  {
   "cell_type": "code",
   "execution_count": 6,
   "metadata": {},
   "outputs": [
    {
     "name": "stdout",
     "output_type": "stream",
     "text": [
      "Index(['db_info_name', 'pub_info_detectiontype', 'obj_phys_mass_mjup',\n",
      "       'obj_phys_msini_mjup', 'obj_phys_radius_rjup', 'obj_orb_period_day',\n",
      "       'obj_orb_a_au', 'obj_orb_ecc', 'obj_parent_phys_teff_k',\n",
      "       'obj_parent_phys_feh', 'obj_orb_inc_deg'],\n",
      "      dtype='object')\n"
     ]
    },
    {
     "data": {
      "text/plain": [
       "obj_id_catname\n",
       "BD+20 2457 b          False\n",
       "2MASS J2250+2325 b    False\n",
       "CoRoT-26 b            False\n",
       "EPIC 220194974 d      False\n",
       "EPIC 248545986 d      False\n",
       "                      ...  \n",
       "WASP-167 b            False\n",
       "WASP-25 b             False\n",
       "WD 0837+185 B         False\n",
       "eta Cet c             False\n",
       "tau Cet e             False\n",
       "Name: obj_parent_phys_teff_k, Length: 4096, dtype: bool"
      ]
     },
     "execution_count": 6,
     "metadata": {},
     "output_type": "execute_result"
    }
   ],
   "source": [
    "print(d_US_test.columns)\n",
    "#param_list=['obj_phys_mass_mjup','obj_phys_radius_rjup',\n",
    " #'obj_orb_period_day','obj_parent_phys_feh','obj_orb_ecc','obj_parent_phys_teff_k']\n",
    "    \n",
    "d_US_test['obj_parent_phys_teff_k'] #----> eccentricity and T_eff are read as \"False\""
   ]
  },
  {
   "cell_type": "code",
   "execution_count": 9,
   "metadata": {},
   "outputs": [],
   "source": [
    "#will be used for the first trial using mass and orbital period\n",
    "param_MP=['obj_orb_period_day','obj_phys_mass_mjup']\n",
    "\n",
    "#will be used for the second trial using mass, radius, temperature\n",
    "param_MRP=['obj_phys_mass_mjup', 'obj_phys_radius_rjup','obj_parent_phys_teff_k']\n",
    "\n",
    "M_US_MP, P_US_MP = d_US_MP['obj_phys_mass_mjup'], d_US_MP['obj_orb_period_day']\n",
    "M_EU_MP, P_EU_MP = d_EU_MP['obj_phys_mass_mjup'], d_EU_MP['obj_orb_period_day']"
   ]
  },
  {
   "cell_type": "code",
   "execution_count": 10,
   "metadata": {},
   "outputs": [],
   "source": [
    "d_US_MP=read_file(file_US,True,param_MP)\n",
    "d_EU_MP=read_file(file_EU,True,param_MP)"
   ]
  },
  {
   "cell_type": "markdown",
   "metadata": {},
   "source": [
    "We first aim to find three separate groups:\n",
    "* Hot jupiters: P $\\lesssim 7$ d, $M/M_J \\leq 12$; centered around $\\sim 1 M_J$ and $P \\sim 3$ d; \n",
    "* Eccentric giants: $10^2 d \\lesssim P \\lesssim 10^4 d$; $1 \\lesssim M/M_J \\leq 10$.\n",
    "* Ungiants: $P \\leq 100 d$; $ M/M_J \\lesssim 0.07$ and $R \\lesssim 0.35 R_J$\n",
    "\n",
    "$\\rightarrow$ <u>Task 1:</u>  plottting mass vs period."
   ]
  },
  {
   "cell_type": "markdown",
   "metadata": {},
   "source": [
    "# mass vs orbital period"
   ]
  },
  {
   "cell_type": "code",
   "execution_count": 106,
   "metadata": {},
   "outputs": [
    {
     "data": {
      "image/png": "[encoded data removed]",
      "text/plain": [
       "<Figure size 432x288 with 1 Axes>"
      ]
     },
     "metadata": {
      "needs_background": "light"
     },
     "output_type": "display_data"
    }
   ],
   "source": [
    "plt.scatter(P_EU_MP, M_EU_MP,label = \"Exoplanet.eu\",c='r')\n",
    "plt.scatter(P_US_MP, M_US_MP,label = \"NASA archive\",c='b')\n",
    "plt.ylabel(r\"$M/M_J$ - log scale\")\n",
    "plt.yscale('log')\n",
    "plt.xscale('log')\n",
    "plt.xlabel(r\"$P (days)$ - log scale\")\n",
    "plt.ylim(10e-5,10e1)\n",
    "plt.legend()\n",
    "plt.title(r\"Mass-Period\")\n",
    "plt.show()"
   ]
  },
  {
   "cell_type": "markdown",
   "metadata": {},
   "source": [
    "Which is a first visualization for the relationship between orbital period and mass, in the full range we're studying, and also reproduces the figure in my document.\n",
    "\n",
    "We can already see the three separate groups."
   ]
  },
  {
   "cell_type": "code",
   "execution_count": 28,
   "metadata": {},
   "outputs": [
    {
     "data": {
      "text/html": [
       "<div>\n",
       "<style scoped>\n",
       "    .dataframe tbody tr th:only-of-type {\n",
       "        vertical-align: middle;\n",
       "    }\n",
       "\n",
       "    .dataframe tbody tr th {\n",
       "        vertical-align: top;\n",
       "    }\n",
       "\n",
       "    .dataframe thead th {\n",
       "        text-align: right;\n",
       "    }\n",
       "</style>\n",
       "<table border=\"1\" class=\"dataframe\">\n",
       "  <thead>\n",
       "    <tr style=\"text-align: right;\">\n",
       "      <th></th>\n",
       "      <th>obj_orb_period_day</th>\n",
       "      <th>obj_phys_mass_mjup</th>\n",
       "    </tr>\n",
       "    <tr>\n",
       "      <th>obj_id_catname</th>\n",
       "      <th></th>\n",
       "      <th></th>\n",
       "    </tr>\n",
       "  </thead>\n",
       "  <tbody>\n",
       "    <tr>\n",
       "      <th>CoRoT-26 b</th>\n",
       "      <td>4.204740</td>\n",
       "      <td>0.5200</td>\n",
       "    </tr>\n",
       "    <tr>\n",
       "      <th>EPIC 248545986 d</th>\n",
       "      <td>10.115000</td>\n",
       "      <td>0.0041</td>\n",
       "    </tr>\n",
       "    <tr>\n",
       "      <th>HATS-13 b</th>\n",
       "      <td>3.044050</td>\n",
       "      <td>0.5430</td>\n",
       "    </tr>\n",
       "    <tr>\n",
       "      <th>HAT-P-31 b</th>\n",
       "      <td>5.005425</td>\n",
       "      <td>2.1710</td>\n",
       "    </tr>\n",
       "    <tr>\n",
       "      <th>K2-139 b</th>\n",
       "      <td>28.382290</td>\n",
       "      <td>0.3810</td>\n",
       "    </tr>\n",
       "    <tr>\n",
       "      <th>...</th>\n",
       "      <td>...</td>\n",
       "      <td>...</td>\n",
       "    </tr>\n",
       "    <tr>\n",
       "      <th>WASP-151 b</th>\n",
       "      <td>4.533471</td>\n",
       "      <td>0.3100</td>\n",
       "    </tr>\n",
       "    <tr>\n",
       "      <th>WASP-163 b</th>\n",
       "      <td>1.609688</td>\n",
       "      <td>1.8700</td>\n",
       "    </tr>\n",
       "    <tr>\n",
       "      <th>WASP-167 b</th>\n",
       "      <td>2.021959</td>\n",
       "      <td>8.0000</td>\n",
       "    </tr>\n",
       "    <tr>\n",
       "      <th>WASP-25 b</th>\n",
       "      <td>3.764830</td>\n",
       "      <td>0.5800</td>\n",
       "    </tr>\n",
       "    <tr>\n",
       "      <th>WD 0837+185 B</th>\n",
       "      <td>0.175000</td>\n",
       "      <td>30.0000</td>\n",
       "    </tr>\n",
       "  </tbody>\n",
       "</table>\n",
       "<p>898 rows × 2 columns</p>\n",
       "</div>"
      ],
      "text/plain": [
       "                  obj_orb_period_day  obj_phys_mass_mjup\n",
       "obj_id_catname                                          \n",
       "CoRoT-26 b                  4.204740              0.5200\n",
       "EPIC 248545986 d           10.115000              0.0041\n",
       "HATS-13 b                   3.044050              0.5430\n",
       "HAT-P-31 b                  5.005425              2.1710\n",
       "K2-139 b                   28.382290              0.3810\n",
       "...                              ...                 ...\n",
       "WASP-151 b                  4.533471              0.3100\n",
       "WASP-163 b                  1.609688              1.8700\n",
       "WASP-167 b                  2.021959              8.0000\n",
       "WASP-25 b                   3.764830              0.5800\n",
       "WD 0837+185 B               0.175000             30.0000\n",
       "\n",
       "[898 rows x 2 columns]"
      ]
     },
     "execution_count": 28,
     "metadata": {},
     "output_type": "execute_result"
    }
   ],
   "source": [
    "d_US_MP"
   ]
  },
  {
   "cell_type": "code",
   "execution_count": 107,
   "metadata": {},
   "outputs": [
    {
     "data": {
      "image/png": "[encoded data removed]",
      "text/plain": [
       "<Figure size 432x288 with 1 Axes>"
      ]
     },
     "metadata": {
      "needs_background": "light"
     },
     "output_type": "display_data"
    }
   ],
   "source": [
    "kmeans = KMeans(n_clusters=3).fit(np.log(d_US_MP))\n",
    "centroids, labels = kmeans.cluster_centers_, kmeans.labels_\n",
    "colors = ['r','b','g']\n",
    "label_color=[]\n",
    "for l in labels:\n",
    "    label_color=np.append(label_color,colors[l])\n",
    "\n",
    "plt.scatter(np.log(P_US_MP),np.log(M_US_MP),c=label_color)\n",
    "plt.scatter(centroids[:, 0],centroids[:, 1],color='k')\n",
    "plt.xlabel('Orbital period - log scale')\n",
    "plt.ylabel(r'$M/M_J$ - log scale')\n",
    "plt.show()"
   ]
  },
  {
   "cell_type": "markdown",
   "metadata": {},
   "source": [
    "# mass-radius-temperature"
   ]
  },
  {
   "cell_type": "markdown",
   "metadata": {},
   "source": [
    "To calculate $T_{eq}$, one needs a another parameter, the planet's bond Albedo $A_B$:\n",
    "\n",
    "$$T_{eq}=T_{star} \\sqrt{\\frac{R}{2 a}}(1-A_{B})^{1 / 4}$$\n",
    "\n",
    "(Will use solene's way of calculating Teq, first need to deal with the \"False\" values on the stellar temperature column)"
   ]
  },
  {
   "cell_type": "code",
   "execution_count": 264,
   "metadata": {},
   "outputs": [
    {
     "data": {
      "text/plain": [
       "obj_id_catname\n",
       "CoRoT-26 b          False\n",
       "EPIC 248545986 d    False\n",
       "HATS-13 b           False\n",
       "HAT-P-31 b          False\n",
       "K2-139 b            False\n",
       "                    ...  \n",
       "LP 358-499 c        False\n",
       "WASP-151 b          False\n",
       "WASP-163 b          False\n",
       "WASP-167 b          False\n",
       "WASP-25 b           False\n",
       "Name: obj_parent_phys_teff_k, Length: 802, dtype: bool"
      ]
     },
     "execution_count": 264,
     "metadata": {},
     "output_type": "execute_result"
    }
   ],
   "source": [
    "d_US_MRP['obj_parent_phys_teff_k']"
   ]
  },
  {
   "cell_type": "markdown",
   "metadata": {},
   "source": [
    "I'll first plot mass-radius."
   ]
  },
  {
   "cell_type": "code",
   "execution_count": 263,
   "metadata": {},
   "outputs": [],
   "source": [
    "d_US_MRP = read_file(file_US, True, param_MRP)\n",
    "d_EU_MRP = read_file(file_EU, True, param_MRP)\n",
    "\n",
    "M_US_MRP, R_US_MRP,T_US_star = d_US_MRP['obj_phys_mass_mjup'], d_US_MRP['obj_phys_radius_rjup'], d_US_MRP['obj_parent_phys_teff_k']\n",
    "M_EU_MRP, R_EU_MRP, T_EU_star = d_EU_MRP['obj_phys_mass_mjup'], d_EU_MRP['obj_phys_radius_rjup'], d_EU_MRP['obj_parent_phys_teff_k']"
   ]
  },
  {
   "cell_type": "code",
   "execution_count": 237,
   "metadata": {},
   "outputs": [
    {
     "data": {
      "image/png": "[encoded data removed]",
      "text/plain": [
       "<Figure size 432x288 with 1 Axes>"
      ]
     },
     "metadata": {
      "needs_background": "light"
     },
     "output_type": "display_data"
    }
   ],
   "source": [
    "plt.plot(M_US_MRP, R_US_MRP, '.' ,label = \"NASA Exoplanet Archive\")\n",
    "plt.plot(M_EU_MRP, R_EU_MRP, '.' ,label = \"Exoplanet.eu\")\n",
    "plt.xlabel(r\"$M/M_J$ - log scale\")\n",
    "plt.yscale('log')\n",
    "plt.xscale('log')\n",
    "plt.ylabel(r\"$R/R_J$ - log scale\")\n",
    "plt.title(r\"Mass-radius\")\n",
    "plt.legend()\n",
    "plt.show()"
   ]
  },
  {
   "cell_type": "markdown",
   "metadata": {},
   "source": []
  },
  {
   "cell_type": "code",
   "execution_count": null,
   "metadata": {},
   "outputs": [],
   "source": [
    "\n"
   ]
  },
  {
   "cell_type": "code",
   "execution_count": null,
   "metadata": {},
   "outputs": [],
   "source": []
  }
 ],
 "metadata": {
  "kernelspec": {
   "display_name": "Python 3",
   "language": "python",
   "name": "python3"
  },
  "language_info": {
   "codemirror_mode": {
    "name": "ipython",
    "version": 3
   },
   "file_extension": ".py",
   "mimetype": "text/x-python",
   "name": "python",
   "nbconvert_exporter": "python",
   "pygments_lexer": "ipython3",
   "version": "3.8.1"
  }
 },
 "nbformat": 4,
 "nbformat_minor": 2
}
